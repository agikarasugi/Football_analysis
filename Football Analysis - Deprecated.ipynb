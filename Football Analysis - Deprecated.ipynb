{
 "cells": [
  {
   "cell_type": "code",
   "execution_count": 1,
   "metadata": {},
   "outputs": [],
   "source": [
    "import pandas as pd"
   ]
  },
  {
   "cell_type": "code",
   "execution_count": 2,
   "metadata": {},
   "outputs": [],
   "source": [
    "mu_home_data = pd.read_csv('mu_home.csv')\n",
    "mu_away_data = pd.read_csv('mu_away.csv')"
   ]
  },
  {
   "cell_type": "code",
   "execution_count": 5,
   "metadata": {},
   "outputs": [],
   "source": [
    "mu_home_data = mu_home_data[['Home Score', 'Away Score']].values\n",
    "mu_away_data = mu_away_data[['Home Score', 'Away Score']].values"
   ]
  },
  {
   "cell_type": "code",
   "execution_count": 6,
   "metadata": {},
   "outputs": [],
   "source": [
    "mu_home = {'win':0, 'lose':0, 'draw':0}\n",
    "liv_away = {'win':0, 'lose':0, 'draw':0}\n",
    "\n",
    "for mu, liv in mu_home_data:\n",
    "    if mu > liv:\n",
    "        mu_home['win'] += 1\n",
    "        liv_away['lose'] += 1\n",
    "    elif mu < liv:\n",
    "        mu_home['lose'] += 1\n",
    "        liv_away['win'] += 1\n",
    "    else:\n",
    "        mu_home['draw'] += 1\n",
    "        liv_away['draw'] += 1"
   ]
  },
  {
   "cell_type": "code",
   "execution_count": 7,
   "metadata": {},
   "outputs": [],
   "source": [
    "mu_away = {'win':0, 'lose':0, 'draw':0}\n",
    "liv_home = {'win':0, 'lose':0, 'draw':0}\n",
    "\n",
    "for mu, liv in mu_away_data:\n",
    "    if mu > liv:\n",
    "        mu_away['win'] += 1\n",
    "        liv_home['lose'] += 1\n",
    "    elif mu < liv:\n",
    "        mu_away['lose'] += 1\n",
    "        liv_home['win'] += 1\n",
    "    else:\n",
    "        mu_away['draw'] += 1\n",
    "        liv_home['draw'] += 1"
   ]
  },
  {
   "cell_type": "code",
   "execution_count": 8,
   "metadata": {},
   "outputs": [
    {
     "name": "stdout",
     "output_type": "stream",
     "text": [
      "MU Away:  {'win': 5, 'lose': 3, 'draw': 2}\n",
      "MU Home:  {'win': 8, 'lose': 1, 'draw': 1}\n",
      "LIV Away:  {'win': 1, 'lose': 8, 'draw': 1}\n",
      "LIV Home:  {'win': 3, 'lose': 5, 'draw': 2}\n"
     ]
    }
   ],
   "source": [
    "print('MU Away: ', mu_away)\n",
    "print('MU Home: ', mu_home)\n",
    "print('LIV Away: ', liv_away)\n",
    "print('LIV Home: ', liv_home)"
   ]
  }
 ],
 "metadata": {
  "kernelspec": {
   "display_name": "Python 3",
   "language": "python",
   "name": "python3"
  },
  "language_info": {
   "codemirror_mode": {
    "name": "ipython",
    "version": 3
   },
   "file_extension": ".py",
   "mimetype": "text/x-python",
   "name": "python",
   "nbconvert_exporter": "python",
   "pygments_lexer": "ipython3",
   "version": "3.6.6"
  }
 },
 "nbformat": 4,
 "nbformat_minor": 2
}
