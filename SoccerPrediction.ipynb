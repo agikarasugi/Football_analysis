{
 "cells": [
  {
   "cell_type": "markdown",
   "metadata": {},
   "source": [
    "# Football Prediction"
   ]
  },
  {
   "cell_type": "markdown",
   "metadata": {},
   "source": [
    "Notebook ini akan melakukan prediksi terhadap hasil pertandingan bola antara Manchester United dan Liverpool pada tanggal 20 Oktober 2019 yang akan datang."
   ]
  },
  {
   "cell_type": "markdown",
   "metadata": {},
   "source": [
    "Kita akan menggunakan **pandas** untuk membaca data pertandingan sebelumnya yang disimpan dalam bentuk file csv."
   ]
  },
  {
   "cell_type": "code",
   "execution_count": 1,
   "metadata": {},
   "outputs": [],
   "source": [
    "import pandas as pd"
   ]
  },
  {
   "cell_type": "markdown",
   "metadata": {},
   "source": [
    "# Function Initialization"
   ]
  },
  {
   "cell_type": "markdown",
   "metadata": {},
   "source": [
    "Selanjutnya kita membuat function untuk membaca 2 file csv yang berisi data pertandingan sebelumnya."
   ]
  },
  {
   "cell_type": "code",
   "execution_count": 2,
   "metadata": {},
   "outputs": [],
   "source": [
    "def load_dataset():\n",
    "    home = pd.read_csv('mu_home.csv')\n",
    "    away = pd.read_csv('mu_away.csv')\n",
    "\n",
    "    return home, away"
   ]
  },
  {
   "cell_type": "markdown",
   "metadata": {},
   "source": [
    "# Main Operation"
   ]
  },
  {
   "cell_type": "code",
   "execution_count": 3,
   "metadata": {},
   "outputs": [],
   "source": [
    "home, away = load_dataset()"
   ]
  },
  {
   "cell_type": "markdown",
   "metadata": {},
   "source": [
    "Selanjutnya kita ubah hasil return pandas berupa DataFrame menjadi sebuah list yang selanjutnya kita tampung ke dalam beberapa variabel."
   ]
  },
  {
   "cell_type": "code",
   "execution_count": 4,
   "metadata": {},
   "outputs": [],
   "source": [
    "manchester_home_scores = home[['Home Score']].values.tolist()\n",
    "manchester_away_scores = away[['Away Score']].values.tolist()\n",
    "liverpool_home_scores = away[['Home Score']].values.tolist()\n",
    "liverpool_away_scores = home[['Away Score']].values.tolist()"
   ]
  },
  {
   "cell_type": "markdown",
   "metadata": {},
   "source": [
    "Selanjutnya kita menyiapkan variabel untuk menampung jumlah kemenangan, kekalahan, dan seri dari setiap tim ketika bermain sebagai tuan rumah dan tamu."
   ]
  },
  {
   "cell_type": "code",
   "execution_count": 5,
   "metadata": {},
   "outputs": [],
   "source": [
    "mu_win_home = 0\n",
    "mu_win_away = 0\n",
    "liverpool_win_home = 0\n",
    "liverpool_win_away = 0\n",
    "draw_mu_home = 0\n",
    "draw_mu_away = 0"
   ]
  },
  {
   "cell_type": "code",
   "execution_count": 6,
   "metadata": {},
   "outputs": [],
   "source": [
    "for i in range(len(manchester_away_scores)):\n",
    "    if manchester_home_scores[i][0] > liverpool_away_scores[i][0]:\n",
    "        mu_win_home += 1\n",
    "    elif manchester_home_scores[i][0] < liverpool_away_scores[i][0]:\n",
    "        liverpool_win_away +=1\n",
    "    else:\n",
    "        draw_mu_home += 1\n",
    "    \n",
    "    if manchester_away_scores[i][0] < liverpool_home_scores[i][0]:\n",
    "        liverpool_win_home += 1\n",
    "    elif manchester_away_scores[i][0] > liverpool_home_scores[i][0]:\n",
    "        mu_win_away += 1\n",
    "    else:\n",
    "        draw_mu_away += 1"
   ]
  },
  {
   "cell_type": "markdown",
   "metadata": {},
   "source": [
    "Selanjutnya kita menghitung probabilitas dari setiap kemungkinan outcome pertandingan."
   ]
  },
  {
   "cell_type": "code",
   "execution_count": 7,
   "metadata": {},
   "outputs": [],
   "source": [
    "chance_mu_win_home = (mu_win_home / (mu_win_home + liverpool_win_away + draw_mu_home)) * 100\n",
    "chance_mu_win_away = (mu_win_away / (mu_win_away + liverpool_win_home + draw_mu_away)) * 100\n",
    "chance_liverpool_win_home = (liverpool_win_home / (liverpool_win_home + mu_win_away + draw_mu_away)) * 100\n",
    "chance_liverpool_win_away = (liverpool_win_away / (liverpool_win_away + mu_win_home + draw_mu_home)) * 100\n",
    "chance_draw_mu_home = (draw_mu_home / (mu_win_home + liverpool_win_away + draw_mu_home)) * 100\n",
    "chance_draw_mu_away = (draw_mu_away / (mu_win_away + liverpool_win_home + draw_mu_away)) * 100"
   ]
  },
  {
   "cell_type": "markdown",
   "metadata": {},
   "source": [
    "# Result"
   ]
  },
  {
   "cell_type": "code",
   "execution_count": 8,
   "metadata": {},
   "outputs": [
    {
     "name": "stdout",
     "output_type": "stream",
     "text": [
      "October 20th 2019 match will take place at Old Trafford. Here our prediction about outcome of the match:\n",
      "80.0% Manchester United will win.\n",
      "10.0% Liverpool will win.\n",
      "10.0% the match will end with draw.\n"
     ]
    }
   ],
   "source": [
    "print(\"October 20th 2019 match will take place at Old Trafford. Here our prediction about outcome of the match:\")\n",
    "print(str(chance_mu_win_home) + \"%\" + \" Manchester United will win.\")\n",
    "print(str(chance_liverpool_win_away) + \"%\" + \" Liverpool will win.\")\n",
    "print(str(chance_draw_mu_home) + \"%\" + \" the match will end with draw.\")"
   ]
  }
 ],
 "metadata": {
  "kernelspec": {
   "display_name": "Python 3",
   "language": "python",
   "name": "python3"
  },
  "language_info": {
   "codemirror_mode": {
    "name": "ipython",
    "version": 3
   },
   "file_extension": ".py",
   "mimetype": "text/x-python",
   "name": "python",
   "nbconvert_exporter": "python",
   "pygments_lexer": "ipython3",
   "version": "3.6.8"
  }
 },
 "nbformat": 4,
 "nbformat_minor": 2
}
